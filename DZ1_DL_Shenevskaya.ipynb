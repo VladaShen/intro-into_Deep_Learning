{
 "cells": [
  {
   "cell_type": "markdown",
   "metadata": {
    "id": "Q_upCOEI3Upu"
   },
   "source": [
    "# Основы глубинного обучения, майнор ИАД\n",
    "\n",
    "## Домашнее задание 1. Введение в PyTorch. Полносвязные нейронные сети.\n",
    "\n",
    "### Выполнила Шеневская Влада \n",
    "\n",
    "\n",
    "### Общая информация\n",
    "\n",
    "Дата выдачи: 06.10.2021\n",
    "\n",
    "Мягкий дедлайн: 23:59MSK 25.10.2021\n",
    "\n",
    "Жесткий дедлайн: 23:59MSK 28.10.2021\n",
    "\n",
    "### Оценивание и штрафы\n",
    "Максимально допустимая оценка за работу — 10 баллов. За каждый день просрочки снимается 1 балл. Сдавать задание после жёсткого дедлайна сдачи нельзя.\n",
    "\n",
    "Задание выполняется самостоятельно. «Похожие» решения считаются плагиатом и все задействованные студенты (в том числе те, у кого списали) не могут получить за него больше 0 баллов. Если вы нашли решение какого-то из заданий (или его часть) в открытом источнике, необходимо указать ссылку на этот источник в отдельном блоке в конце вашей работы (скорее всего вы будете не единственным, кто это нашел, поэтому чтобы исключить подозрение в плагиате, необходима ссылка на источник).\n",
    "\n",
    "Неэффективная реализация кода может негативно отразиться на оценке.\n",
    "Также оценка может быть снижена за плохо читаемый код и плохо оформленные графики. Все ответы должны сопровождаться кодом или комментариями о том, как они были получены.\n",
    "\n",
    "### О задании\n",
    "\n",
    "В этом задании вам предстоит предсказывать год выпуска песни по некоторым звуковым признакам: [данные](https://archive.ics.uci.edu/ml/datasets/yearpredictionmsd). В ячейках ниже находится код для загрузки данных. Обратите внимание, что обучающая и тестовая выборки располагаются в одном файле, поэтому НЕ меняйте ячейку, в которой производится деление данных."
   ]
  },
  {
   "cell_type": "code",
   "execution_count": 141,
   "metadata": {
    "id": "RI_eoe063VaP"
   },
   "outputs": [],
   "source": [
    "import torch\n",
    "from torch import nn\n",
    "import pandas as pd\n",
    "import numpy as np\n",
    "import random\n",
    "import torch.nn.functional as F"
   ]
  },
  {
   "cell_type": "code",
   "execution_count": 2,
   "metadata": {
    "colab": {
     "base_uri": "https://localhost:8080/"
    },
    "id": "7NgSZeU-7vgj",
    "outputId": "60375452-fd9e-4538-aaf8-88f0dadc2f5e"
   },
   "outputs": [
    {
     "name": "stdout",
     "output_type": "stream",
     "text": [
      "--2021-10-27 07:01:07--  https://archive.ics.uci.edu/ml/machine-learning-databases/00203/YearPredictionMSD.txt.zip\n",
      "Resolving archive.ics.uci.edu (archive.ics.uci.edu)... 128.195.10.252\n",
      "Connecting to archive.ics.uci.edu (archive.ics.uci.edu)|128.195.10.252|:443... connected.\n",
      "HTTP request sent, awaiting response... 200 OK\n",
      "Length: 211011981 (201M) [application/x-httpd-php]\n",
      "Saving to: ‘data.txt.zip’\n",
      "\n",
      "data.txt.zip        100%[===================>] 201.24M  41.1MB/s    in 5.3s    \n",
      "\n",
      "2021-10-27 07:01:13 (37.8 MB/s) - ‘data.txt.zip’ saved [211011981/211011981]\n",
      "\n"
     ]
    }
   ],
   "source": [
    "!wget -O data.txt.zip https://archive.ics.uci.edu/ml/machine-learning-databases/00203/YearPredictionMSD.txt.zip"
   ]
  },
  {
   "cell_type": "code",
   "execution_count": 3,
   "metadata": {
    "colab": {
     "base_uri": "https://localhost:8080/",
     "height": 250
    },
    "id": "DSVJZzkJ7zZE",
    "outputId": "23ae54fa-7b14-48dc-b569-5030452ddffa"
   },
   "outputs": [
    {
     "data": {
      "text/html": [
       "<div>\n",
       "<style scoped>\n",
       "    .dataframe tbody tr th:only-of-type {\n",
       "        vertical-align: middle;\n",
       "    }\n",
       "\n",
       "    .dataframe tbody tr th {\n",
       "        vertical-align: top;\n",
       "    }\n",
       "\n",
       "    .dataframe thead th {\n",
       "        text-align: right;\n",
       "    }\n",
       "</style>\n",
       "<table border=\"1\" class=\"dataframe\">\n",
       "  <thead>\n",
       "    <tr style=\"text-align: right;\">\n",
       "      <th></th>\n",
       "      <th>0</th>\n",
       "      <th>1</th>\n",
       "      <th>2</th>\n",
       "      <th>3</th>\n",
       "      <th>4</th>\n",
       "      <th>5</th>\n",
       "      <th>6</th>\n",
       "      <th>7</th>\n",
       "      <th>8</th>\n",
       "      <th>9</th>\n",
       "      <th>10</th>\n",
       "      <th>11</th>\n",
       "      <th>12</th>\n",
       "      <th>13</th>\n",
       "      <th>14</th>\n",
       "      <th>15</th>\n",
       "      <th>16</th>\n",
       "      <th>17</th>\n",
       "      <th>18</th>\n",
       "      <th>19</th>\n",
       "      <th>20</th>\n",
       "      <th>21</th>\n",
       "      <th>22</th>\n",
       "      <th>23</th>\n",
       "      <th>24</th>\n",
       "      <th>25</th>\n",
       "      <th>26</th>\n",
       "      <th>27</th>\n",
       "      <th>28</th>\n",
       "      <th>29</th>\n",
       "      <th>30</th>\n",
       "      <th>31</th>\n",
       "      <th>32</th>\n",
       "      <th>33</th>\n",
       "      <th>34</th>\n",
       "      <th>35</th>\n",
       "      <th>36</th>\n",
       "      <th>37</th>\n",
       "      <th>38</th>\n",
       "      <th>39</th>\n",
       "      <th>...</th>\n",
       "      <th>51</th>\n",
       "      <th>52</th>\n",
       "      <th>53</th>\n",
       "      <th>54</th>\n",
       "      <th>55</th>\n",
       "      <th>56</th>\n",
       "      <th>57</th>\n",
       "      <th>58</th>\n",
       "      <th>59</th>\n",
       "      <th>60</th>\n",
       "      <th>61</th>\n",
       "      <th>62</th>\n",
       "      <th>63</th>\n",
       "      <th>64</th>\n",
       "      <th>65</th>\n",
       "      <th>66</th>\n",
       "      <th>67</th>\n",
       "      <th>68</th>\n",
       "      <th>69</th>\n",
       "      <th>70</th>\n",
       "      <th>71</th>\n",
       "      <th>72</th>\n",
       "      <th>73</th>\n",
       "      <th>74</th>\n",
       "      <th>75</th>\n",
       "      <th>76</th>\n",
       "      <th>77</th>\n",
       "      <th>78</th>\n",
       "      <th>79</th>\n",
       "      <th>80</th>\n",
       "      <th>81</th>\n",
       "      <th>82</th>\n",
       "      <th>83</th>\n",
       "      <th>84</th>\n",
       "      <th>85</th>\n",
       "      <th>86</th>\n",
       "      <th>87</th>\n",
       "      <th>88</th>\n",
       "      <th>89</th>\n",
       "      <th>90</th>\n",
       "    </tr>\n",
       "  </thead>\n",
       "  <tbody>\n",
       "    <tr>\n",
       "      <th>0</th>\n",
       "      <td>2001</td>\n",
       "      <td>49.94357</td>\n",
       "      <td>21.47114</td>\n",
       "      <td>73.07750</td>\n",
       "      <td>8.74861</td>\n",
       "      <td>-17.40628</td>\n",
       "      <td>-13.09905</td>\n",
       "      <td>-25.01202</td>\n",
       "      <td>-12.23257</td>\n",
       "      <td>7.83089</td>\n",
       "      <td>-2.46783</td>\n",
       "      <td>3.32136</td>\n",
       "      <td>-2.31521</td>\n",
       "      <td>10.20556</td>\n",
       "      <td>611.10913</td>\n",
       "      <td>951.08960</td>\n",
       "      <td>698.11428</td>\n",
       "      <td>408.98485</td>\n",
       "      <td>383.70912</td>\n",
       "      <td>326.51512</td>\n",
       "      <td>238.11327</td>\n",
       "      <td>251.42414</td>\n",
       "      <td>187.17351</td>\n",
       "      <td>100.42652</td>\n",
       "      <td>179.19498</td>\n",
       "      <td>-8.41558</td>\n",
       "      <td>-317.87038</td>\n",
       "      <td>95.86266</td>\n",
       "      <td>48.10259</td>\n",
       "      <td>-95.66303</td>\n",
       "      <td>-18.06215</td>\n",
       "      <td>1.96984</td>\n",
       "      <td>34.42438</td>\n",
       "      <td>11.72670</td>\n",
       "      <td>1.36790</td>\n",
       "      <td>7.79444</td>\n",
       "      <td>-0.36994</td>\n",
       "      <td>-133.67852</td>\n",
       "      <td>-83.26165</td>\n",
       "      <td>-37.29765</td>\n",
       "      <td>...</td>\n",
       "      <td>-25.38187</td>\n",
       "      <td>-3.90772</td>\n",
       "      <td>13.29258</td>\n",
       "      <td>41.55060</td>\n",
       "      <td>-7.26272</td>\n",
       "      <td>-21.00863</td>\n",
       "      <td>105.50848</td>\n",
       "      <td>64.29856</td>\n",
       "      <td>26.08481</td>\n",
       "      <td>-44.59110</td>\n",
       "      <td>-8.30657</td>\n",
       "      <td>7.93706</td>\n",
       "      <td>-10.73660</td>\n",
       "      <td>-95.44766</td>\n",
       "      <td>-82.03307</td>\n",
       "      <td>-35.59194</td>\n",
       "      <td>4.69525</td>\n",
       "      <td>70.95626</td>\n",
       "      <td>28.09139</td>\n",
       "      <td>6.02015</td>\n",
       "      <td>-37.13767</td>\n",
       "      <td>-41.12450</td>\n",
       "      <td>-8.40816</td>\n",
       "      <td>7.19877</td>\n",
       "      <td>-8.60176</td>\n",
       "      <td>-5.90857</td>\n",
       "      <td>-12.32437</td>\n",
       "      <td>14.68734</td>\n",
       "      <td>-54.32125</td>\n",
       "      <td>40.14786</td>\n",
       "      <td>13.01620</td>\n",
       "      <td>-54.40548</td>\n",
       "      <td>58.99367</td>\n",
       "      <td>15.37344</td>\n",
       "      <td>1.11144</td>\n",
       "      <td>-23.08793</td>\n",
       "      <td>68.40795</td>\n",
       "      <td>-1.82223</td>\n",
       "      <td>-27.46348</td>\n",
       "      <td>2.26327</td>\n",
       "    </tr>\n",
       "    <tr>\n",
       "      <th>1</th>\n",
       "      <td>2001</td>\n",
       "      <td>48.73215</td>\n",
       "      <td>18.42930</td>\n",
       "      <td>70.32679</td>\n",
       "      <td>12.94636</td>\n",
       "      <td>-10.32437</td>\n",
       "      <td>-24.83777</td>\n",
       "      <td>8.76630</td>\n",
       "      <td>-0.92019</td>\n",
       "      <td>18.76548</td>\n",
       "      <td>4.59210</td>\n",
       "      <td>2.21920</td>\n",
       "      <td>0.34006</td>\n",
       "      <td>44.38997</td>\n",
       "      <td>2056.93836</td>\n",
       "      <td>605.40696</td>\n",
       "      <td>457.41175</td>\n",
       "      <td>777.15347</td>\n",
       "      <td>415.64880</td>\n",
       "      <td>746.47775</td>\n",
       "      <td>366.45320</td>\n",
       "      <td>317.82946</td>\n",
       "      <td>273.07917</td>\n",
       "      <td>141.75921</td>\n",
       "      <td>317.35269</td>\n",
       "      <td>19.48271</td>\n",
       "      <td>-65.25496</td>\n",
       "      <td>162.75145</td>\n",
       "      <td>135.00765</td>\n",
       "      <td>-96.28436</td>\n",
       "      <td>-86.87955</td>\n",
       "      <td>17.38087</td>\n",
       "      <td>45.90742</td>\n",
       "      <td>32.49908</td>\n",
       "      <td>-32.85429</td>\n",
       "      <td>45.10830</td>\n",
       "      <td>26.84939</td>\n",
       "      <td>-302.57328</td>\n",
       "      <td>-41.71932</td>\n",
       "      <td>-138.85034</td>\n",
       "      <td>...</td>\n",
       "      <td>28.55107</td>\n",
       "      <td>1.52298</td>\n",
       "      <td>70.99515</td>\n",
       "      <td>-43.63073</td>\n",
       "      <td>-42.55014</td>\n",
       "      <td>129.82848</td>\n",
       "      <td>79.95420</td>\n",
       "      <td>-87.14554</td>\n",
       "      <td>-45.75446</td>\n",
       "      <td>-65.82100</td>\n",
       "      <td>-43.90031</td>\n",
       "      <td>-19.45705</td>\n",
       "      <td>12.59163</td>\n",
       "      <td>-407.64130</td>\n",
       "      <td>42.91189</td>\n",
       "      <td>12.15850</td>\n",
       "      <td>-88.37882</td>\n",
       "      <td>42.25246</td>\n",
       "      <td>46.49209</td>\n",
       "      <td>-30.17747</td>\n",
       "      <td>45.98495</td>\n",
       "      <td>130.47892</td>\n",
       "      <td>13.88281</td>\n",
       "      <td>-4.00055</td>\n",
       "      <td>17.85965</td>\n",
       "      <td>-18.32138</td>\n",
       "      <td>-87.99109</td>\n",
       "      <td>14.37524</td>\n",
       "      <td>-22.70119</td>\n",
       "      <td>-58.81266</td>\n",
       "      <td>5.66812</td>\n",
       "      <td>-19.68073</td>\n",
       "      <td>33.04964</td>\n",
       "      <td>42.87836</td>\n",
       "      <td>-9.90378</td>\n",
       "      <td>-32.22788</td>\n",
       "      <td>70.49388</td>\n",
       "      <td>12.04941</td>\n",
       "      <td>58.43453</td>\n",
       "      <td>26.92061</td>\n",
       "    </tr>\n",
       "    <tr>\n",
       "      <th>2</th>\n",
       "      <td>2001</td>\n",
       "      <td>50.95714</td>\n",
       "      <td>31.85602</td>\n",
       "      <td>55.81851</td>\n",
       "      <td>13.41693</td>\n",
       "      <td>-6.57898</td>\n",
       "      <td>-18.54940</td>\n",
       "      <td>-3.27872</td>\n",
       "      <td>-2.35035</td>\n",
       "      <td>16.07017</td>\n",
       "      <td>1.39518</td>\n",
       "      <td>2.73553</td>\n",
       "      <td>0.82804</td>\n",
       "      <td>7.46586</td>\n",
       "      <td>699.54544</td>\n",
       "      <td>1016.00954</td>\n",
       "      <td>594.06748</td>\n",
       "      <td>355.73663</td>\n",
       "      <td>507.39931</td>\n",
       "      <td>387.69910</td>\n",
       "      <td>287.15347</td>\n",
       "      <td>112.37152</td>\n",
       "      <td>161.68928</td>\n",
       "      <td>144.14353</td>\n",
       "      <td>199.29693</td>\n",
       "      <td>-4.24359</td>\n",
       "      <td>-297.00587</td>\n",
       "      <td>-148.36392</td>\n",
       "      <td>-7.94726</td>\n",
       "      <td>-18.71630</td>\n",
       "      <td>12.77542</td>\n",
       "      <td>-25.37725</td>\n",
       "      <td>9.71410</td>\n",
       "      <td>0.13843</td>\n",
       "      <td>26.79723</td>\n",
       "      <td>6.30760</td>\n",
       "      <td>28.70107</td>\n",
       "      <td>-74.89005</td>\n",
       "      <td>-289.19553</td>\n",
       "      <td>-166.26089</td>\n",
       "      <td>...</td>\n",
       "      <td>18.50939</td>\n",
       "      <td>16.97216</td>\n",
       "      <td>24.26629</td>\n",
       "      <td>-10.50788</td>\n",
       "      <td>-8.68412</td>\n",
       "      <td>54.75759</td>\n",
       "      <td>194.74034</td>\n",
       "      <td>7.95966</td>\n",
       "      <td>-18.22685</td>\n",
       "      <td>0.06463</td>\n",
       "      <td>-2.63069</td>\n",
       "      <td>26.02561</td>\n",
       "      <td>1.75729</td>\n",
       "      <td>-262.36917</td>\n",
       "      <td>-233.60089</td>\n",
       "      <td>-2.50502</td>\n",
       "      <td>-12.14279</td>\n",
       "      <td>81.37617</td>\n",
       "      <td>2.07554</td>\n",
       "      <td>-1.82381</td>\n",
       "      <td>183.65292</td>\n",
       "      <td>22.64797</td>\n",
       "      <td>-39.98887</td>\n",
       "      <td>43.37381</td>\n",
       "      <td>-31.56737</td>\n",
       "      <td>-4.88840</td>\n",
       "      <td>-36.53213</td>\n",
       "      <td>-23.94662</td>\n",
       "      <td>-84.19275</td>\n",
       "      <td>66.00518</td>\n",
       "      <td>3.03800</td>\n",
       "      <td>26.05866</td>\n",
       "      <td>-50.92779</td>\n",
       "      <td>10.93792</td>\n",
       "      <td>-0.07568</td>\n",
       "      <td>43.20130</td>\n",
       "      <td>-115.00698</td>\n",
       "      <td>-0.05859</td>\n",
       "      <td>39.67068</td>\n",
       "      <td>-0.66345</td>\n",
       "    </tr>\n",
       "    <tr>\n",
       "      <th>3</th>\n",
       "      <td>2001</td>\n",
       "      <td>48.24750</td>\n",
       "      <td>-1.89837</td>\n",
       "      <td>36.29772</td>\n",
       "      <td>2.58776</td>\n",
       "      <td>0.97170</td>\n",
       "      <td>-26.21683</td>\n",
       "      <td>5.05097</td>\n",
       "      <td>-10.34124</td>\n",
       "      <td>3.55005</td>\n",
       "      <td>-6.36304</td>\n",
       "      <td>6.63016</td>\n",
       "      <td>-3.35142</td>\n",
       "      <td>37.64085</td>\n",
       "      <td>2174.08189</td>\n",
       "      <td>697.43346</td>\n",
       "      <td>459.24587</td>\n",
       "      <td>742.78961</td>\n",
       "      <td>229.30783</td>\n",
       "      <td>387.89697</td>\n",
       "      <td>249.06662</td>\n",
       "      <td>245.89870</td>\n",
       "      <td>176.20527</td>\n",
       "      <td>98.82222</td>\n",
       "      <td>150.97286</td>\n",
       "      <td>78.49057</td>\n",
       "      <td>-62.00282</td>\n",
       "      <td>43.49659</td>\n",
       "      <td>-96.42719</td>\n",
       "      <td>-108.96608</td>\n",
       "      <td>14.22854</td>\n",
       "      <td>14.54178</td>\n",
       "      <td>-23.55608</td>\n",
       "      <td>-39.36953</td>\n",
       "      <td>-43.59209</td>\n",
       "      <td>20.83714</td>\n",
       "      <td>35.63919</td>\n",
       "      <td>-181.34947</td>\n",
       "      <td>-93.66614</td>\n",
       "      <td>-90.55616</td>\n",
       "      <td>...</td>\n",
       "      <td>4.56917</td>\n",
       "      <td>-37.32280</td>\n",
       "      <td>4.15159</td>\n",
       "      <td>12.24315</td>\n",
       "      <td>35.02697</td>\n",
       "      <td>-178.89573</td>\n",
       "      <td>82.46573</td>\n",
       "      <td>-20.49425</td>\n",
       "      <td>101.78577</td>\n",
       "      <td>-19.77808</td>\n",
       "      <td>-21.52657</td>\n",
       "      <td>3.36303</td>\n",
       "      <td>-11.63176</td>\n",
       "      <td>51.55411</td>\n",
       "      <td>-50.57576</td>\n",
       "      <td>-28.14755</td>\n",
       "      <td>-83.15795</td>\n",
       "      <td>-7.35260</td>\n",
       "      <td>-22.11505</td>\n",
       "      <td>1.18279</td>\n",
       "      <td>-122.70467</td>\n",
       "      <td>150.57360</td>\n",
       "      <td>24.37468</td>\n",
       "      <td>41.19821</td>\n",
       "      <td>-37.04318</td>\n",
       "      <td>-28.72986</td>\n",
       "      <td>162.19614</td>\n",
       "      <td>22.18309</td>\n",
       "      <td>-8.63509</td>\n",
       "      <td>85.23416</td>\n",
       "      <td>34.57337</td>\n",
       "      <td>-171.70734</td>\n",
       "      <td>-16.96705</td>\n",
       "      <td>-46.67617</td>\n",
       "      <td>-12.51516</td>\n",
       "      <td>82.58061</td>\n",
       "      <td>-72.08993</td>\n",
       "      <td>9.90558</td>\n",
       "      <td>199.62971</td>\n",
       "      <td>18.85382</td>\n",
       "    </tr>\n",
       "    <tr>\n",
       "      <th>4</th>\n",
       "      <td>2001</td>\n",
       "      <td>50.97020</td>\n",
       "      <td>42.20998</td>\n",
       "      <td>67.09964</td>\n",
       "      <td>8.46791</td>\n",
       "      <td>-15.85279</td>\n",
       "      <td>-16.81409</td>\n",
       "      <td>-12.48207</td>\n",
       "      <td>-9.37636</td>\n",
       "      <td>12.63699</td>\n",
       "      <td>0.93609</td>\n",
       "      <td>1.60923</td>\n",
       "      <td>2.19223</td>\n",
       "      <td>47.32082</td>\n",
       "      <td>894.28471</td>\n",
       "      <td>809.86615</td>\n",
       "      <td>318.78559</td>\n",
       "      <td>435.04497</td>\n",
       "      <td>341.61467</td>\n",
       "      <td>334.30734</td>\n",
       "      <td>322.99589</td>\n",
       "      <td>190.61921</td>\n",
       "      <td>235.84715</td>\n",
       "      <td>96.89517</td>\n",
       "      <td>210.58870</td>\n",
       "      <td>5.60463</td>\n",
       "      <td>-199.63958</td>\n",
       "      <td>204.85812</td>\n",
       "      <td>-77.17695</td>\n",
       "      <td>-65.79741</td>\n",
       "      <td>-6.95097</td>\n",
       "      <td>-12.15262</td>\n",
       "      <td>-3.85410</td>\n",
       "      <td>20.68990</td>\n",
       "      <td>-20.30480</td>\n",
       "      <td>37.15045</td>\n",
       "      <td>11.20673</td>\n",
       "      <td>-124.09519</td>\n",
       "      <td>-295.98542</td>\n",
       "      <td>-33.31169</td>\n",
       "      <td>...</td>\n",
       "      <td>45.25506</td>\n",
       "      <td>10.42226</td>\n",
       "      <td>27.88782</td>\n",
       "      <td>-17.12676</td>\n",
       "      <td>-31.54772</td>\n",
       "      <td>-76.86293</td>\n",
       "      <td>41.17343</td>\n",
       "      <td>-138.32535</td>\n",
       "      <td>-53.96905</td>\n",
       "      <td>-21.30266</td>\n",
       "      <td>-24.87362</td>\n",
       "      <td>-2.46595</td>\n",
       "      <td>-4.05003</td>\n",
       "      <td>-56.51161</td>\n",
       "      <td>-34.56445</td>\n",
       "      <td>-5.07092</td>\n",
       "      <td>-47.75605</td>\n",
       "      <td>64.81513</td>\n",
       "      <td>-97.42948</td>\n",
       "      <td>-12.59418</td>\n",
       "      <td>55.23699</td>\n",
       "      <td>28.85657</td>\n",
       "      <td>54.53513</td>\n",
       "      <td>-31.97077</td>\n",
       "      <td>20.03279</td>\n",
       "      <td>-8.07892</td>\n",
       "      <td>-55.12617</td>\n",
       "      <td>26.58961</td>\n",
       "      <td>-10.27183</td>\n",
       "      <td>-30.64232</td>\n",
       "      <td>9.92661</td>\n",
       "      <td>-55.95724</td>\n",
       "      <td>64.92712</td>\n",
       "      <td>-17.72522</td>\n",
       "      <td>-1.49237</td>\n",
       "      <td>-7.50035</td>\n",
       "      <td>51.76631</td>\n",
       "      <td>7.88713</td>\n",
       "      <td>55.66926</td>\n",
       "      <td>28.74903</td>\n",
       "    </tr>\n",
       "  </tbody>\n",
       "</table>\n",
       "<p>5 rows × 91 columns</p>\n",
       "</div>"
      ],
      "text/plain": [
       "     0         1         2         3   ...         87        88         89        90\n",
       "0  2001  49.94357  21.47114  73.07750  ...   68.40795  -1.82223  -27.46348   2.26327\n",
       "1  2001  48.73215  18.42930  70.32679  ...   70.49388  12.04941   58.43453  26.92061\n",
       "2  2001  50.95714  31.85602  55.81851  ... -115.00698  -0.05859   39.67068  -0.66345\n",
       "3  2001  48.24750  -1.89837  36.29772  ...  -72.08993   9.90558  199.62971  18.85382\n",
       "4  2001  50.97020  42.20998  67.09964  ...   51.76631   7.88713   55.66926  28.74903\n",
       "\n",
       "[5 rows x 91 columns]"
      ]
     },
     "execution_count": 3,
     "metadata": {},
     "output_type": "execute_result"
    }
   ],
   "source": [
    "df = pd.read_csv('data.txt.zip', header=None)\n",
    "df.head()"
   ]
  },
  {
   "cell_type": "code",
   "execution_count": 4,
   "metadata": {
    "id": "n4wnRJT1778j"
   },
   "outputs": [],
   "source": [
    "X = df.iloc[:, 1:].values\n",
    "y = df.iloc[:, 0].values\n",
    "\n",
    "train_size = 463715\n",
    "X_train = X[:train_size, :]\n",
    "y_train = y[:train_size]\n",
    "X_test = X[train_size:, :]\n",
    "y_test = y[train_size:]"
   ]
  },
  {
   "cell_type": "markdown",
   "metadata": {
    "id": "_386JE_o5gOd"
   },
   "source": [
    "## Задание 0. (0 баллов, но при невыполнении максимум за все задание &mdash; 0 баллов)\n",
    "\n",
    "Мы будем использовать RMSE как метрику качества. Для самого первого бейзлайна обучите `Ridge` регрессию из `sklearn`. Кроме того, посчитайте качество при наилучшем константном прогнозе."
   ]
  },
  {
   "cell_type": "code",
   "execution_count": 5,
   "metadata": {
    "id": "otwuisa56MLr"
   },
   "outputs": [],
   "source": [
    "from sklearn.linear_model import Ridge\n",
    "from sklearn.metrics import mean_squared_error\n",
    "from sklearn.model_selection import GridSearchCV\n",
    "import seaborn as sns\n",
    "from matplotlib import pyplot as plt\n",
    "%matplotlib inline"
   ]
  },
  {
   "cell_type": "markdown",
   "metadata": {
    "id": "b3JLNYiY9KW1"
   },
   "source": [
    "установим альфу, равную 5"
   ]
  },
  {
   "cell_type": "code",
   "execution_count": null,
   "metadata": {
    "colab": {
     "base_uri": "https://localhost:8080/"
    },
    "id": "gBlARxrr9GAE",
    "outputId": "d0c1ca73-a4fe-4094-dd44-b52d400f2f8d"
   },
   "outputs": [
    {
     "name": "stdout",
     "output_type": "stream",
     "text": [
      "RMSE train: 9.552822967904525\n",
      "RMSE test: 9.510160726912835\n"
     ]
    }
   ],
   "source": [
    "ridge = Ridge(5.0, random_state=123).fit(X_train, y_train)\n",
    "rmse_ridge_train = np.sqrt(mean_squared_error(y_train, ridge.predict(X_train)))\n",
    "rmse_ridge_test = np.sqrt(mean_squared_error(y_test, ridge.predict(X_test)))\n",
    "print(f\"RMSE train: {rmse_ridge_train}\",f\"RMSE test: {rmse_ridge_test}\", sep='\\n')"
   ]
  },
  {
   "cell_type": "code",
   "execution_count": null,
   "metadata": {
    "colab": {
     "base_uri": "https://localhost:8080/"
    },
    "id": "WgQktnuu9GHt",
    "outputId": "45d1dc62-c04c-4a20-8b12-df3c633e915b"
   },
   "outputs": [
    {
     "data": {
      "text/plain": [
       "{'alpha': 5.0,\n",
       " 'copy_X': True,\n",
       " 'fit_intercept': True,\n",
       " 'max_iter': None,\n",
       " 'normalize': False,\n",
       " 'random_state': 123,\n",
       " 'solver': 'auto',\n",
       " 'tol': 0.001}"
      ]
     },
     "execution_count": 9,
     "metadata": {},
     "output_type": "execute_result"
    }
   ],
   "source": [
    "ridge.get_params()"
   ]
  },
  {
   "cell_type": "markdown",
   "metadata": {
    "id": "IAjnkCp-AGy2"
   },
   "source": [
    "подберем гиперпараметр альфа по сетке"
   ]
  },
  {
   "cell_type": "code",
   "execution_count": null,
   "metadata": {
    "colab": {
     "base_uri": "https://localhost:8080/"
    },
    "id": "puuXz-tm9GKJ",
    "outputId": "9740a272-c7a2-482a-f987-028441815afd"
   },
   "outputs": [
    {
     "name": "stderr",
     "output_type": "stream",
     "text": [
      "/usr/local/lib/python3.7/dist-packages/sklearn/model_selection/_search.py:823: FutureWarning: The parameter 'iid' is deprecated in 0.22 and will be removed in 0.24.\n",
      "  \"removed in 0.24.\", FutureWarning\n"
     ]
    },
    {
     "data": {
      "text/plain": [
       "GridSearchCV(cv=5, error_score=nan,\n",
       "             estimator=Ridge(alpha=5.0, copy_X=True, fit_intercept=True,\n",
       "                             max_iter=None, normalize=False, random_state=123,\n",
       "                             solver='auto', tol=0.001),\n",
       "             iid=False, n_jobs=None,\n",
       "             param_grid={'alpha': [0.1, 0.5, 1.0, 1.5, 2.0, 5.0, 10.0]},\n",
       "             pre_dispatch='2*n_jobs', refit=True, return_train_score=False,\n",
       "             scoring=None, verbose=0)"
      ]
     },
     "execution_count": 10,
     "metadata": {},
     "output_type": "execute_result"
    }
   ],
   "source": [
    "param_grid = {'alpha': [0.1, 0.5, 1.0, 1.5, 2.0, 5.0, 10.0]}\n",
    "grid_search = GridSearchCV(ridge, param_grid, iid=False, cv=5) \n",
    "grid_search.fit(X_train, y_train)"
   ]
  },
  {
   "cell_type": "code",
   "execution_count": null,
   "metadata": {
    "colab": {
     "base_uri": "https://localhost:8080/"
    },
    "id": "2yH81Cam9GMs",
    "outputId": "5b36aa37-f5a8-4856-f32c-847c193763ba"
   },
   "outputs": [
    {
     "data": {
      "text/plain": [
       "{'alpha': 10.0,\n",
       " 'copy_X': True,\n",
       " 'fit_intercept': True,\n",
       " 'max_iter': None,\n",
       " 'normalize': False,\n",
       " 'random_state': 123,\n",
       " 'solver': 'auto',\n",
       " 'tol': 0.001}"
      ]
     },
     "execution_count": 11,
     "metadata": {},
     "output_type": "execute_result"
    }
   ],
   "source": [
    "ridge_best = grid_search.best_estimator_\n",
    "ridge_best.get_params()"
   ]
  },
  {
   "cell_type": "code",
   "execution_count": null,
   "metadata": {
    "colab": {
     "base_uri": "https://localhost:8080/"
    },
    "id": "1DaWZMKd9GPU",
    "outputId": "29a3e05f-7ea7-445c-fd8b-e1bf4c3614f7"
   },
   "outputs": [
    {
     "name": "stdout",
     "output_type": "stream",
     "text": [
      "RMSE train: 9.552822967905987\n",
      "RMSE test: 9.510160746337895\n"
     ]
    }
   ],
   "source": [
    "ridge_best.fit(X_train, y_train)\n",
    "print(f\"RMSE train: {np.sqrt(mean_squared_error(y_train, ridge_best.predict(X_train)))}\"\n",
    ",f\"RMSE test: {np.sqrt(mean_squared_error(y_test, ridge_best.predict(X_test)))}\", sep='\\n')"
   ]
  },
  {
   "cell_type": "markdown",
   "metadata": {
    "id": "nXDxo6NH94eE"
   },
   "source": [
    "Для константного признака посмотрим, какой год выпуска песни наиболее частый в обучающей выборке, тем самым выберем лучший константный признак (всегда предсказывать наиболее частый год).\n",
    "\n",
    "Подсматривать в выборке тестовой мы не можем, поэтому берем тренировочную."
   ]
  },
  {
   "cell_type": "code",
   "execution_count": 6,
   "metadata": {
    "colab": {
     "base_uri": "https://localhost:8080/"
    },
    "id": "1sCzIUnG9GSC",
    "outputId": "7931570c-d5ee-4274-a7d3-2bac656a5ed8"
   },
   "outputs": [
    {
     "name": "stdout",
     "output_type": "stream",
     "text": [
      "{2007: 0.08, 2005: 0.07, 2006: 0.07, 2008: 0.07, 2004: 0.06, 2009: 0.06, 2002: 0.05, 2003: 0.05, 1999: 0.04, 2000: 0.04, 2001: 0.04, 1995: 0.03, 1996: 0.03, 1997: 0.03, 1998: 0.03, 1991: 0.02, 1992: 0.02, 1993: 0.02, 1994: 0.02, 2010: 0.02, 1973: 0.01, 1978: 0.01, 1979: 0.01, 1980: 0.01, 1981: 0.01, 1982: 0.01, 1983: 0.01, 1984: 0.01, 1985: 0.01, 1986: 0.01, 1987: 0.01, 1988: 0.01, 1989: 0.01, 1990: 0.01, 1922: 0.0, 1924: 0.0, 1925: 0.0, 1926: 0.0, 1927: 0.0, 1928: 0.0, 1929: 0.0, 1930: 0.0, 1931: 0.0, 1932: 0.0, 1933: 0.0, 1934: 0.0, 1935: 0.0, 1936: 0.0, 1937: 0.0, 1938: 0.0, 1939: 0.0, 1940: 0.0, 1941: 0.0, 1942: 0.0, 1943: 0.0, 1944: 0.0, 1945: 0.0, 1946: 0.0, 1947: 0.0, 1948: 0.0, 1949: 0.0, 1950: 0.0, 1951: 0.0, 1952: 0.0, 1953: 0.0, 1954: 0.0, 1955: 0.0, 1956: 0.0, 1957: 0.0, 1958: 0.0, 1959: 0.0, 1960: 0.0, 1961: 0.0, 1962: 0.0, 1963: 0.0, 1964: 0.0, 1965: 0.0, 1966: 0.0, 1967: 0.0, 1968: 0.0, 1969: 0.0, 1970: 0.0, 1971: 0.0, 1972: 0.0, 1974: 0.0, 1975: 0.0, 1976: 0.0, 1977: 0.0, 2011: 0.0}\n"
     ]
    }
   ],
   "source": [
    "years = np.unique(y_train)\n",
    "shares = {}\n",
    "numbers = {}\n",
    "for i in years:\n",
    "  shares[i] = np.round((np.sum(y_train == i)/y_train.shape[0]),decimals = 2)\n",
    "  numbers[i] = np.round((np.sum(y_train == i)),decimals = 2)\n",
    "\n",
    "sorted_shares = dict(sorted(shares.items(),\n",
    "                           key=lambda item: item[1],\n",
    "                           reverse=True))\n",
    "print(sorted_shares)"
   ]
  },
  {
   "cell_type": "markdown",
   "metadata": {
    "id": "L_cyMVTk_k4u"
   },
   "source": [
    "Визуализируем для наглядности данные"
   ]
  },
  {
   "cell_type": "code",
   "execution_count": null,
   "metadata": {
    "colab": {
     "base_uri": "https://localhost:8080/",
     "height": 311
    },
    "id": "lnazitGG9zz6",
    "outputId": "e9dd155b-bb23-4c5f-d2dd-91259934708b"
   },
   "outputs": [
    {
     "data": {
      "image/png": "[encoded data removed]",
      "text/plain": [
       "<Figure size 1296x288 with 1 Axes>"
      ]
     },
     "metadata": {},
     "output_type": "display_data"
    }
   ],
   "source": [
    "fig = plt.figure(figsize=(18,4))\n",
    "sns.barplot(x=list(shares.keys()),y=list(numbers.values()))\n",
    "plt.xticks(rotation=90)\n",
    "plt.xlabel(\"Years\")\n",
    "plt.ylabel('Number')\n",
    "plt.title(\"Music release dynamics\")\n",
    "plt.show()"
   ]
  },
  {
   "cell_type": "markdown",
   "metadata": {
    "id": "7VzAP9PJfJDq"
   },
   "source": [
    "Заметно, что пик приходится на 2007г., тогда как до 1955г. музыка выпускалась в крайне незначительных количествах"
   ]
  },
  {
   "cell_type": "markdown",
   "metadata": {
    "id": "wMf2IoJJ_t7R"
   },
   "source": [
    "Качество при наилучшем константном прогнозе:"
   ]
  },
  {
   "cell_type": "code",
   "execution_count": 11,
   "metadata": {
    "colab": {
     "base_uri": "https://localhost:8080/"
    },
    "id": "BJ362PJp9z25",
    "outputId": "61258e76-063d-4dff-8c72-0d0923fd2a04"
   },
   "outputs": [
    {
     "name": "stdout",
     "output_type": "stream",
     "text": [
      "RMSE_const_train: 13.923993812859472\n",
      "RMSE_const_test: 13.787170630263175\n"
     ]
    }
   ],
   "source": [
    "print(f\"RMSE_const_train: {mean_squared_error(y_train, np.ones(y_train.shape)*(list(sorted_shares)[0]), squared=False)}\",\n",
    "      f\"RMSE_const_test: {mean_squared_error(y_test, np.ones(y_test.shape)*(list(sorted_shares)[0]),squared=False)}\", sep='\\n')"
   ]
  },
  {
   "cell_type": "markdown",
   "metadata": {
    "id": "_6ilBKYt6OdD"
   },
   "source": [
    "## Задание 1. (максимум 10 баллов)\n",
    "\n",
    "Реализуйте обучение и тестирование нейронной сети для предоставленного вам набора данных. Соотношение между полученным значением метрики на тестовой выборке и баллами за задание следующее:\n",
    "\n",
    "- $\\text{RMSE} \\le 9.02 $ &mdash; 4 балла\n",
    "- $\\text{RMSE} \\le 8.92 $ &mdash; 6 баллов\n",
    "- $\\text{RMSE} \\le 8.82 $ &mdash; 8 баллов\n",
    "- $\\text{RMSE} \\le 8.77 $ &mdash; 10 баллов\n",
    "\n",
    "Есть несколько правил, которых вам нужно придерживаться:\n",
    "\n",
    "- Весь пайплайн обучения должен быть написан на PyTorch. При этом вы можете пользоваться другими библиотеками (`numpy`, `sklearn` и пр.), но только для обработки данных. То есть как угодно трансформировать данные и считать метрики с помощью этих библиотек можно, а импортировать модели из `sklearn` и выбивать с их помощью требуемое качество &mdash; нельзя. Также нельзя пользоваться библиотеками, для которых сам PyTorch является зависимостью.\n",
    "\n",
    "- Мы никак не ограничиваем ваш выбор архитектуры модели, но скорее всего вам будет достаточно полносвязной нейронной сети.\n",
    "\n",
    "- Для обучения запрещается использовать какие-либо иные данные, кроме обучающей выборки.\n",
    "\n",
    "- Ансамблирование моделей запрещено.\n",
    "\n",
    "### Полезные советы:\n",
    "\n",
    "- Очень вряд ли, что у вас с первого раза получится выбить качество на 10 баллов, поэтому пробуйте разные архитектуры, оптимизаторы и значения гиперпараметров. В идеале при запуске каждого нового эксперимента вы должны менять что-то одно, чтобы точно знать, как этот фактор влияет на качество.\n",
    "\n",
    "- Тот факт, что мы занимаемся глубинным обучением, не означает, что стоит забывать про приемы, использующиеся в классическом машинном обучении. Так что обязательно проводите исследовательский анализ данных, отрисовывайте нужные графики и не забывайте про масштабирование и подбор гиперпараметров.\n",
    "\n",
    "- Вы наверняка столкнетесь с тем, что ваша нейронная сеть будет сильно переобучаться. Для нейросетей существуют специальные методы регуляризации, например, dropout ([статья](https://jmlr.org/papers/volume15/srivastava14a/srivastava14a.pdf)) и weight decay ([блогпост](https://towardsdatascience.com/weight-decay-l2-regularization-90a9e17713cd)). Они, разумеется, реализованы в PyTorch. Попробуйте поэкспериментировать с ними.\n",
    "\n",
    "- Если вы чего-то не знаете, не гнушайтесь гуглить. В интернете очень много полезной информации, туториалов и советов по глубинному обучению в целом и по PyTorch в частности. Но не забывайте, что за скатанный код без ссылки на источник придется ответить по всей строгости!\n",
    "\n",
    "- Чтобы отладить код, можете обучаться на небольшой части данных или даже на одном батче. Если лосс на обучающей выборке не падает, то что-то точно идет не так!\n",
    "\n",
    "- Пользуйтесь утилитами, которые вам предоставляет PyTorch (например, Dataset и Dataloader). Их специально разработали для упрощения разработки пайплайна обучения.\n",
    "\n",
    "- Скорее всего вы захотите отслеживать прогресс обучения. Для создания прогресс-баров есть удобная библиотека `tqdm`.\n",
    "\n",
    "- Быть может, вы захотите, чтобы графики рисовались прямо во время обучения. Можете воспользоваться функцией [clear_output](http://ipython.org/ipython-doc/dev/api/generated/IPython.display.html#IPython.display.clear_output), чтобы удалять старый график и рисовать новый на его месте.\n",
    "\n",
    "**ОБЯЗАТЕЛЬНО** рисуйте графики зависимости лосса/метрики на обучающей и тестовой выборках в зависимости от времени обучения. Если обучение занимает относительно небольшое число эпох, то лучше рисовать зависимость от номера шага обучения, если же эпох больше, то рисуйте зависимость по эпохам. **Если проверяющий не увидит такого графика для вашей лучшей модели, то он в праве снизить баллы за задание.**\n",
    "\n",
    "**ВАЖНО!** Ваше решение должно быть воспроизводимым. Если это не так, то проверяющий имеет право снизить баллы за задание. Чтобы зафиксировать random seed, воспользуйтесь функцией из ячейки ниже.\n",
    "\n"
   ]
  },
  {
   "cell_type": "code",
   "execution_count": 12,
   "metadata": {
    "id": "J40zObZyGrF5"
   },
   "outputs": [],
   "source": [
    "def set_random_seed(seed):\n",
    "    torch.backends.cudnn.deterministic = True\n",
    "    torch.manual_seed(seed)\n",
    "    torch.cuda.manual_seed(seed)\n",
    "    np.random.seed(seed)\n",
    "    random.seed(seed)"
   ]
  },
  {
   "cell_type": "code",
   "execution_count": 13,
   "metadata": {
    "id": "_xiZQja5GsJn"
   },
   "outputs": [],
   "source": [
    "set_random_seed(21)\n",
    "#фиксируем random_seed"
   ]
  },
  {
   "cell_type": "markdown",
   "metadata": {
    "id": "Ba0TM_JHAt8-"
   },
   "source": [
    "**Предобработка данных**\n"
   ]
  },
  {
   "cell_type": "code",
   "execution_count": null,
   "metadata": {
    "colab": {
     "base_uri": "https://localhost:8080/"
    },
    "id": "AiPTCw1tAyuM",
    "outputId": "72c03220-cc25-4a65-c12a-c11893cd4ac5"
   },
   "outputs": [
    {
     "name": "stdout",
     "output_type": "stream",
     "text": [
      "X_train: False\n",
      "X_test: False\n",
      "y_train: False\n",
      "y_test: False\n"
     ]
    }
   ],
   "source": [
    "print(f\"X_train: {np.isnan(X_train).any()}\",\n",
    "      f\"X_test: {np.isnan(X_test).any()}\",\n",
    "      f\"y_train: {np.isnan(y_train).any()}\",\n",
    "      f\"y_test: {np.isnan(y_test).any()}\", sep='\\n')"
   ]
  },
  {
   "cell_type": "markdown",
   "metadata": {
    "id": "TzjVPL9_BA7Z"
   },
   "source": [
    "Пропусков в данных нет"
   ]
  },
  {
   "cell_type": "code",
   "execution_count": null,
   "metadata": {
    "colab": {
     "base_uri": "https://localhost:8080/"
    },
    "id": "S6N1EvtqAyw2",
    "outputId": "d6351318-e77c-4204-a751-d49e2c3d8112"
   },
   "outputs": [
    {
     "data": {
      "text/plain": [
       "dtype('float64')"
      ]
     },
     "execution_count": 23,
     "metadata": {},
     "output_type": "execute_result"
    }
   ],
   "source": [
    "X_train.dtype #убедимся, что работаем только с числовыми признаками"
   ]
  },
  {
   "cell_type": "markdown",
   "metadata": {
    "id": "NX8utOWiBNGg"
   },
   "source": [
    "Масштабируем признаки -- проведем нормализацию, чтобы ускорить обучение модели и улучшить работу с матрицей \"объекты-признаки\""
   ]
  },
  {
   "cell_type": "code",
   "execution_count": 14,
   "metadata": {
    "id": "dpGqQKd9Ay3t"
   },
   "outputs": [],
   "source": [
    "from sklearn.preprocessing import StandardScaler"
   ]
  },
  {
   "cell_type": "code",
   "execution_count": 15,
   "metadata": {
    "id": "_GqtIkmZAy6J"
   },
   "outputs": [],
   "source": [
    "sc = StandardScaler()\n",
    "X_train = sc.fit_transform(X_train)\n",
    "X_test = sc.transform(X_test)"
   ]
  },
  {
   "cell_type": "code",
   "execution_count": 16,
   "metadata": {
    "id": "m8yzhSusHgrS"
   },
   "outputs": [],
   "source": [
    "y_hat_train = sc.fit_transform(np.reshape(y_train, (-1,1)))\n",
    "y_hat_test = sc.transform(np.reshape(y_test, (-1,1)))"
   ]
  },
  {
   "cell_type": "code",
   "execution_count": 142,
   "metadata": {
    "id": "DDd9s82PLBe8"
   },
   "outputs": [],
   "source": [
    "std_y = np.std(y_train)\n",
    "mean_y = np.mean(y_train) \n",
    "#тк StandardScaler предполагает вычитание мат ожидания и деление на стандартное отклонение"
   ]
  },
  {
   "cell_type": "code",
   "execution_count": 143,
   "metadata": {
    "colab": {
     "base_uri": "https://localhost:8080/"
    },
    "id": "vihXjEcqIBEj",
    "outputId": "d74f030f-09b2-45ae-9b64-5dbc94a8b0ad"
   },
   "outputs": [
    {
     "data": {
      "text/plain": [
       "array([10.93975515])"
      ]
     },
     "execution_count": 143,
     "metadata": {},
     "output_type": "execute_result"
    }
   ],
   "source": [
    "sc.scale_ # параметр масштабирования"
   ]
  },
  {
   "cell_type": "markdown",
   "metadata": {
    "id": "ABuFQCtBBuVA"
   },
   "source": [
    "Отберем признаки только с высокой дисперсией, чтобы не учитывать константные"
   ]
  },
  {
   "cell_type": "code",
   "execution_count": null,
   "metadata": {
    "colab": {
     "base_uri": "https://localhost:8080/"
    },
    "id": "OZYA7eErAzBX",
    "outputId": "b15b57ed-73e2-47de-f199-e4d484905094"
   },
   "outputs": [
    {
     "name": "stdout",
     "output_type": "stream",
     "text": [
      "min var: 0.9999999999999992\n",
      "max var: 1.0000000000000007\n"
     ]
    }
   ],
   "source": [
    "features_var = {}\n",
    "for i in range(90):\n",
    "    features_var[i+1] =X_train[:, i].var()\n",
    "print(f\"min var: {min(features_var.values())}\",f\"max var: {max(features_var.values())}\", sep=\"\\n\")"
   ]
  },
  {
   "cell_type": "markdown",
   "metadata": {
    "id": "KgIMoKmTHOOB"
   },
   "source": [
    "Все признаки с примерно одинаковой дисперсией, не можем среди них отбросить те признаки, что имеют наименьшую диспресию (близкие к константным)"
   ]
  },
  {
   "cell_type": "code",
   "execution_count": null,
   "metadata": {
    "colab": {
     "base_uri": "https://localhost:8080/"
    },
    "id": "rNpMK4itlJkI",
    "outputId": "d618b606-82d1-4644-ee04-88108997d8b9"
   },
   "outputs": [
    {
     "name": "stdout",
     "output_type": "stream",
     "text": [
      "Количество лет наблюдений: 89\n"
     ]
    }
   ],
   "source": [
    "print(f\"Количество лет наблюдений: {len(np.unique(y_train))}\") #просто для информации"
   ]
  },
  {
   "cell_type": "markdown",
   "metadata": {
    "id": "Char_Ck1JK4r"
   },
   "source": [
    "**Нейронная сеть**"
   ]
  },
  {
   "cell_type": "markdown",
   "metadata": {
    "id": "TZW0gMe3vT8u"
   },
   "source": [
    "Вы можете придерживаться любой адекватной струкуры кода, но мы советуем воспользоваться следующими сигнатурами функций. Лучше всего, если вы проверите ваши предсказания ассертом: так вы убережете себя от разных косяков, например, что вектор предсказаний состоит из всего одного числа. В любом случае, внимательно следите за тем, для каких тензоров вы считаете метрику RMSE. При случайном или намеренном введении в заблуждение проверяющие очень сильно разозлятся."
   ]
  },
  {
   "cell_type": "code",
   "execution_count": 19,
   "metadata": {
    "id": "t222OiPMk2k6"
   },
   "outputs": [],
   "source": [
    "import matplotlib.pyplot as plt\n",
    "from IPython.display import clear_output\n",
    "import torch.utils.data as data_utils"
   ]
  },
  {
   "cell_type": "code",
   "execution_count": 20,
   "metadata": {
    "id": "bInE35jxb1UP"
   },
   "outputs": [],
   "source": [
    "class MyDataset(torch.utils.data.Dataset):\n",
    "    def __init__(self, x, y):\n",
    "        self.x = x\n",
    "        self.y = y\n",
    "    def __len__(self):\n",
    "        return len(self.x)\n",
    "    def __getitem__(self, idx):\n",
    "        return [torch.tensor(self.x[idx, :], dtype=torch.float),  torch.tensor(self.y[idx], dtype=torch.float) ]\n",
    "# похожую функцию мы писали на семинаре №1    "
   ]
  },
  {
   "cell_type": "code",
   "execution_count": 144,
   "metadata": {
    "id": "peomNjMWbkSz"
   },
   "outputs": [],
   "source": [
    "train_set = MyDataset(X_train, y_hat_train) # y_train нормализованный\n",
    "train_loader = torch.utils.data.DataLoader(train_set, \n",
    "    batch_size=80, \n",
    "    shuffle=True, \n",
    "    num_workers=1)\n",
    "\n",
    "test_set = MyDataset(X_test, y_test) # y_test не нормализованный\n",
    "test_loader = torch.utils.data.DataLoader(test_set, \n",
    "    batch_size=80,\n",
    "    num_workers=1)\n",
    "\n",
    "criterion = nn.MSELoss()"
   ]
  },
  {
   "cell_type": "code",
   "execution_count": 172,
   "metadata": {
    "id": "hy7duvORqYyD"
   },
   "outputs": [],
   "source": [
    "def plot_history(train_history, val_history, title='loss'):\n",
    "    plt.figure()\n",
    "    plt.title('{}'.format(title))\n",
    "    plt.plot(train_history, label='train', zorder=1)\n",
    "    \n",
    "    points = np.array(val_history)\n",
    "    steps = list(range(0, len(train_history) + 1, int(len(train_history) / len(val_history))))[1:]\n",
    "    \n",
    "    plt.scatter(steps, val_history, marker='+', s=180, c='orange', label='val', zorder=2)\n",
    "    plt.xlabel('train steps')\n",
    "    \n",
    "    plt.legend(loc='best')\n",
    "\n",
    "    plt.show()\n",
    "\n",
    " # функция взята с семинара №3   "
   ]
  },
  {
   "cell_type": "code",
   "execution_count": 162,
   "metadata": {
    "id": "Zmt9odT-P0JT"
   },
   "outputs": [],
   "source": [
    "NUM_EPOCH=5 # установим для начала такое количество эпох"
   ]
  },
  {
   "cell_type": "code",
   "execution_count": 164,
   "metadata": {
    "id": "KZYlzIKVN9jf"
   },
   "outputs": [],
   "source": [
    "def trainer(model, criterion, optimizer, train_dataloader, test_dataloader):\n",
    "    train_loss_log, val_loss_log = [], []\n",
    "    for epoch in range(NUM_EPOCH):\n",
    "        model.train()\n",
    "        train_loss = torch.empty(0)\n",
    "        for imgs, labels in train_dataloader:\n",
    "            optimizer.zero_grad()\n",
    "            y_pred = model(imgs)  \n",
    "            loss = criterion(y_pred, labels)\n",
    "            loss.backward()\n",
    "            optimizer.step()\n",
    "            train_loss = torch.cat((train_loss, torch.unsqueeze(loss,0)))\n",
    "            train_loss_log.append(train_loss.mean())\n",
    "\n",
    "        val_loss = torch.empty(0)\n",
    "        model.eval()\n",
    "        with torch.no_grad():\n",
    "            for imgs, labels in test_dataloader:\n",
    "                pred = model(imgs)\n",
    "                prediction = pred[:,0]*std_y + mean_y #расскейлили предсказания, чтобы посчитать лосс\n",
    "                loss = criterion(prediction, labels)\n",
    "                val_loss = torch.cat((val_loss, torch.unsqueeze(loss,0)))\n",
    "        val_loss_log.append(val_loss.mean())\n",
    "\n",
    "        clear_output()\n",
    "        plot_history(np.sqrt(train_loss_log)*sc.scale_, np.sqrt(val_loss_log), 'loss')\n",
    "\n",
    "        print('Train loss:', np.sqrt(np.mean(train_loss.detach().numpy()))*sc.scale_) #расскейлим лосс тренировочной выборки\n",
    "        print('Val loss:', np.sqrt(np.mean(val_loss.detach().numpy())))\n",
    "        \n",
    "# функция основана на той, что написали на семинаре №3        "
   ]
  },
  {
   "cell_type": "markdown",
   "metadata": {},
   "source": [
    "В функции test я хочу выводить и предсказания, и лосс для моей модели"
   ]
  },
  {
   "cell_type": "code",
   "execution_count": 170,
   "metadata": {
    "id": "wKY46DUCvtpw"
   },
   "outputs": [],
   "source": [
    "def test(model, criterion, test_loader):\n",
    "    '''\n",
    "    params:\n",
    "        model - torch.nn.Module to be evaluated on test set\n",
    "        criterion - loss function from torch.nn\n",
    "        test_loader - torch.utils.data.Dataloader with test set\n",
    "    ----------\n",
    "    returns:\n",
    "        predicts - numpy array with shape (len(test_loader.dataset), ),\n",
    "                   which contains predictions for test objects\n",
    "        loss -     loss for the model\n",
    "    '''\n",
    "    model.eval()\n",
    "    predicts = torch.empty(0)\n",
    "    val_loss = torch.empty(0)\n",
    "    for imgs, labels in test_loader:\n",
    "            pred = model(imgs)\n",
    "            predc = pred[:,0]*std_y + mean_y \n",
    "            predicts = torch.cat((predc, predicts),0)\n",
    "            loss = criterion(predc, labels)\n",
    "            val_loss = torch.cat((val_loss, loss.unsqueeze(0))) \n",
    "    predicts = predicts.detach().numpy()\n",
    "    loss = np.sqrt(val_loss.mean().detach().numpy())\n",
    "    return predicts, loss"
   ]
  },
  {
   "cell_type": "markdown",
   "metadata": {},
   "source": [
    "Нумерация экспериментов произвольная, тк эксперименты были бесчисленные"
   ]
  },
  {
   "cell_type": "markdown",
   "metadata": {
    "id": "SKbaVrnJAnA1"
   },
   "source": [
    "**Эксперимент N**"
   ]
  },
  {
   "cell_type": "code",
   "execution_count": 27,
   "metadata": {
    "id": "ZF6a2AqsshEi"
   },
   "outputs": [],
   "source": [
    "model10 = nn.Sequential( \n",
    "        nn.BatchNorm1d(90),    \n",
    "        nn.Linear(90, 64),\n",
    "        nn.LeakyReLU(),\n",
    "        nn.Linear(64,56),\n",
    "        nn.Dropout(p=0.4),\n",
    "        nn.Linear(56,32),\n",
    "        nn.Dropout(p=0.4),\n",
    "        nn.Linear(32,16),\n",
    "        nn.LeakyReLU(),\n",
    "        nn.Linear(16,1)\n",
    "    )\n",
    "optimizer10 = torch.optim.Adam(model10.parameters(), lr=0.001, amsgrad=True)"
   ]
  },
  {
   "cell_type": "code",
   "execution_count": 174,
   "metadata": {
    "id": "618liuzcs7dP"
   },
   "outputs": [],
   "source": [
    "assert test(model10, criterion, test_loader)[0].shape[0] == y_hat_test.shape[0]"
   ]
  },
  {
   "cell_type": "code",
   "execution_count": 165,
   "metadata": {
    "colab": {
     "base_uri": "https://localhost:8080/",
     "height": 789
    },
    "id": "6nqQrXZZkbQd",
    "outputId": "ba1636d7-937f-421f-e148-4d588a0d7ea0"
   },
   "outputs": [
    {
     "data": {
      "image/png": "[encoded data removed]",
      "text/plain": [
       "<Figure size 864x864 with 1 Axes>"
      ]
     },
     "metadata": {},
     "output_type": "display_data"
    },
    {
     "name": "stdout",
     "output_type": "stream",
     "text": [
      "Train loss: [8.50772637]\n",
      "Val loss: 8.874915\n"
     ]
    }
   ],
   "source": [
    "trainer(model10, criterion, optimizer10, train_loader, test_loader)"
   ]
  },
  {
   "cell_type": "markdown",
   "metadata": {},
   "source": [
    "Потом меняла количество эпох, но качество только ухудшалось, меняла шаг, меняла вероятность в Dropout, переставляла Dropout и BatchNorm1d местами, но кардинально ничего не менялось.\n",
    "\n",
    "Останавливала раньше 15 эпохи тк видела что качество падало (по этой же причине убрала эксперименты (там кидался ошибкой за приостановку выполнения функции = некрасиво))"
   ]
  },
  {
   "cell_type": "markdown",
   "metadata": {
    "id": "E84kPx6uAvEi"
   },
   "source": [
    "**Эксперимент M**"
   ]
  },
  {
   "cell_type": "code",
   "execution_count": 176,
   "metadata": {
    "id": "fboFWn_LsD5D"
   },
   "outputs": [],
   "source": [
    "model4 = nn.Sequential( \n",
    "        nn.BatchNorm1d(90),     \n",
    "        nn.Linear(90, 120),\n",
    "        nn.LeakyReLU(),\n",
    "        nn.Linear(120, 64),\n",
    "        nn.Dropout(p=0.3),\n",
    "        nn.Linear(64,32),\n",
    "        nn.LeakyReLU(),\n",
    "        nn.Linear(32,16),\n",
    "        nn.BatchNorm1d(16),\n",
    "        nn.Linear(16, 8),\n",
    "        nn.LeakyReLU(),\n",
    "        nn.Linear(8,1)\n",
    "    )\n",
    "optimizer4 = torch.optim.Adam(model4.parameters(), lr=0.001)"
   ]
  },
  {
   "cell_type": "code",
   "execution_count": 178,
   "metadata": {
    "id": "lb2ZRvpIRbT1"
   },
   "outputs": [],
   "source": [
    "assert test(model4, criterion, test_loader)[0].shape[0] == y_hat_test.shape[0]"
   ]
  },
  {
   "cell_type": "code",
   "execution_count": 179,
   "metadata": {
    "colab": {
     "base_uri": "https://localhost:8080/",
     "height": 789
    },
    "id": "URjPHnHFJkfm",
    "outputId": "2944c8ee-1191-4cad-abd7-4857a97c518b"
   },
   "outputs": [
    {
     "data": {
      "image/png": "[encoded data removed]",
      "text/plain": [
       "<Figure size 864x864 with 1 Axes>"
      ]
     },
     "metadata": {},
     "output_type": "display_data"
    },
    {
     "name": "stdout",
     "output_type": "stream",
     "text": [
      "Train loss: [8.66041997]\n",
      "Val loss: 8.78069\n"
     ]
    }
   ],
   "source": [
    "trainer(model4, criterion, optimizer4, train_loader, test_loader) "
   ]
  },
  {
   "cell_type": "code",
   "execution_count": 180,
   "metadata": {
    "id": "sllkNtvFt9g1"
   },
   "outputs": [],
   "source": [
    "NUM_EPOCH= 15 # увеличим количество эпох для всех последующих экспериментов"
   ]
  },
  {
   "cell_type": "code",
   "execution_count": 181,
   "metadata": {
    "colab": {
     "base_uri": "https://localhost:8080/",
     "height": 789
    },
    "id": "taHcdJgCuBWq",
    "outputId": "59886069-8e8f-48e6-e263-3c02101389ac"
   },
   "outputs": [
    {
     "data": {
      "image/png": "[encoded data removed]",
      "text/plain": [
       "<Figure size 864x864 with 1 Axes>"
      ]
     },
     "metadata": {},
     "output_type": "display_data"
    },
    {
     "name": "stdout",
     "output_type": "stream",
     "text": [
      "Train loss: [8.42747211]\n",
      "Val loss: 8.848705\n"
     ]
    }
   ],
   "source": [
    "trainer(model4, criterion, optimizer4, train_loader, test_loader) "
   ]
  },
  {
   "cell_type": "code",
   "execution_count": 182,
   "metadata": {
    "id": "EzgSSZXmweaj"
   },
   "outputs": [],
   "source": [
    "optimizer41 = torch.optim.Adam(model4.parameters(), lr=0.0001)"
   ]
  },
  {
   "cell_type": "code",
   "execution_count": 183,
   "metadata": {
    "colab": {
     "base_uri": "https://localhost:8080/",
     "height": 789
    },
    "id": "EuxrH5OWwmcV",
    "outputId": "9732aa27-938a-43f9-dcd0-ba2077815fe1"
   },
   "outputs": [
    {
     "data": {
      "image/png": "[encoded data removed]",
      "text/plain": [
       "<Figure size 864x864 with 1 Axes>"
      ]
     },
     "metadata": {},
     "output_type": "display_data"
    },
    {
     "name": "stdout",
     "output_type": "stream",
     "text": [
      "Train loss: [8.25597831]\n",
      "Val loss: 8.85006\n"
     ]
    }
   ],
   "source": [
    "trainer(model4, criterion, optimizer41, train_loader, test_loader) "
   ]
  },
  {
   "cell_type": "markdown",
   "metadata": {},
   "source": [
    "Не особо удалось улучшить качество меняя шаг и количество эпох"
   ]
  },
  {
   "cell_type": "markdown",
   "metadata": {},
   "source": [
    "**Эксперимент Z**"
   ]
  },
  {
   "cell_type": "code",
   "execution_count": 201,
   "metadata": {
    "id": "L7e83zrI4U1v"
   },
   "outputs": [],
   "source": [
    "model12 = nn.Sequential(\n",
    "    nn.BatchNorm1d(90),\n",
    "    nn.Linear(90, 100),\n",
    "    nn.LeakyReLU(),       \n",
    "    nn.Dropout(p=0.2),\n",
    "    nn.Linear(100, 64),  \n",
    "    nn.BatchNorm1d(64),\n",
    "    nn.LeakyReLU(),\n",
    "    nn.Dropout(p=0.2),\n",
    "    nn.Linear(64,32),  \n",
    "    nn.BatchNorm1d(32),\n",
    "    nn.LeakyReLU(),\n",
    "    nn.Dropout(p=0.2),\n",
    "    nn.Linear(32, 1) \n",
    "    )\n",
    "#добавила побольше комбинаций нормализации и дропаута и увеличила количество нейронов на выходе 1 слоя\n",
    "\n",
    "optimizer12 = torch.optim.Adam(model12.parameters(), lr=0.001)"
   ]
  },
  {
   "cell_type": "code",
   "execution_count": 203,
   "metadata": {
    "id": "9phPl-Wl_ZBI"
   },
   "outputs": [],
   "source": [
    "assert test(model12, criterion, test_loader)[0].shape[0] == y_test.shape[0]"
   ]
  },
  {
   "cell_type": "code",
   "execution_count": 202,
   "metadata": {
    "colab": {
     "base_uri": "https://localhost:8080/",
     "height": 789
    },
    "id": "mTBBw64v4Y9W",
    "outputId": "bc30c84b-7c5d-4295-8ae3-0d9c70cf59bf"
   },
   "outputs": [
    {
     "data": {
      "image/png": "[encoded data removed]",
      "text/plain": [
       "<Figure size 864x864 with 1 Axes>"
      ]
     },
     "metadata": {},
     "output_type": "display_data"
    },
    {
     "name": "stdout",
     "output_type": "stream",
     "text": [
      "Train loss: [8.73287494]\n",
      "Val loss: 8.730104\n"
     ]
    }
   ],
   "source": [
    "trainer(model12, criterion, optimizer12, train_loader, test_loader) "
   ]
  },
  {
   "cell_type": "code",
   "execution_count": 204,
   "metadata": {
    "colab": {
     "base_uri": "https://localhost:8080/"
    },
    "id": "Z6Q52bS3_6GX",
    "outputId": "3b23ff69-02a8-48c5-c13b-757b1fbb40c3"
   },
   "outputs": [
    {
     "name": "stdout",
     "output_type": "stream",
     "text": [
      "RMSE: 8.730104446411133\n"
     ]
    }
   ],
   "source": [
    "print(f\"RMSE: {test(model, criterion, test_loader)[1]}\")"
   ]
  },
  {
   "cell_type": "markdown",
   "metadata": {
    "id": "bine9EES6TIn"
   },
   "source": [
    "## Задание 2. (0 баллов, но при невыполнении максимум за все задание &mdash; 0 баллов)\n",
    "\n",
    "Напишите небольшой отчет о том, как вы добились полученного качества: какие средства использовали и какие эксперименты проводили. Подробно расскажите об архитектурах и значениях гиперпараметров, а также какие метрики на тесте они показывали. Чтобы отчет был зачтен, необходимо привести хотя бы 3 эксперимента."
   ]
  },
  {
   "cell_type": "markdown",
   "metadata": {
    "id": "OByTmlP1AIwl"
   },
   "source": [
    "Было проведено крайне много экспериментов, здесь остались одни из самых последних и удачных, а именно 3 эксперимента. \n",
    "\n",
    "В последней модельке, которая по качеству оказалась наилучшей, я в самом начале увеличила количество нейронов до 100, чтобы они новые взаимосвязи находили, потом постепенно снижала, применила чередование нормализации по батчам (BatchNorm1d) и Dropout (зануляет некоторые элементы с вероятностью 0.2). Также в качестве функции активации использовала LeakyRelu, чтобы ускорить обучение в случае, когда сеть сталкивается с константным нулевым градиентом. \n",
    "\n",
    "Выбирала количество нейронов кратное 4, потому что вроде как BatchNorm1d просит такого типа ему подавать.\n",
    "\n",
    "Но последняя модель была выведена методом проб и ошибок, а не из теоретических рассуждений :) \n",
    "\n",
    "Обнаружила, что такое сочетание дропаута, функции активации и нормализации пока лучше всего.\n",
    "\n",
    "До этой в моделях тоже были всевозможные чередования, но качество не было таким высоким + в последней модели я сразу чередовала функцию активации с BatchNorm1d и Dropout перед следующим линейным слоем и наверное это и улучшило качество.\n",
    "\n",
    "В ходе ~~мучений~~ выполнения задания, я двигала шаг (но как то лучше 0.001 шага не нашлось), изменяла комбинации линейный слой - функция активации - Dropout - BatchNorm1d с разными чередованиями, меняла количество линейных слоев, количество нейронов на входе и выходе, и, ах да, количество эпох для моделей."
   ]
  },
  {
   "cell_type": "code",
   "execution_count": null,
   "metadata": {},
   "outputs": [],
   "source": []
  }
 ],
 "metadata": {
  "colab": {
   "collapsed_sections": [],
   "name": "DZ-01.ipynb\"",
   "provenance": []
  },
  "kernelspec": {
   "display_name": "Python 3",
   "language": "python",
   "name": "python3"
  },
  "language_info": {
   "codemirror_mode": {
    "name": "ipython",
    "version": 3
   },
   "file_extension": ".py",
   "mimetype": "text/x-python",
   "name": "python",
   "nbconvert_exporter": "python",
   "pygments_lexer": "ipython3",
   "version": "3.8.3"
  }
 },
 "nbformat": 4,
 "nbformat_minor": 1
}
